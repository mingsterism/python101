{
 "cells": [
  {
   "cell_type": "code",
   "execution_count": 2,
   "metadata": {},
   "outputs": [
    {
     "name": "stdout",
     "output_type": "stream",
     "text": [
      "number is 2\n"
     ]
    }
   ],
   "source": [
    "number = 2\n",
    "if number != 2:\n",
    "    print(\"number is not 2\")\n",
    "else:\n",
    "    print(\"number is 2\")"
   ]
  },
  {
   "cell_type": "code",
   "execution_count": 3,
   "metadata": {},
   "outputs": [],
   "source": [
    "name = \"James\"\n",
    "age = 10"
   ]
  },
  {
   "cell_type": "code",
   "execution_count": 4,
   "metadata": {},
   "outputs": [
    {
     "name": "stdout",
     "output_type": "stream",
     "text": [
      "My name is James and my age is 10\n"
     ]
    }
   ],
   "source": [
    "if name == \"John\" and age > 10:\n",
    "    print(\"My name is John and my age is\", age)\n",
    "elif name == \"James\" and age > 5:\n",
    "    print(\"My name is\", name, \"and my age is\", age)\n",
    "else:\n",
    "    print(\"I dunno\")"
   ]
  },
  {
   "cell_type": "markdown",
   "metadata": {},
   "source": [
    "## I want to find out, are these numbers even or odd\n",
    "## 2, 100, 4677, 4356, 34, 2405, 3456"
   ]
  },
  {
   "cell_type": "code",
   "execution_count": 8,
   "metadata": {},
   "outputs": [
    {
     "name": "stdout",
     "output_type": "stream",
     "text": [
      "number 2 is even\n"
     ]
    }
   ],
   "source": [
    "# Lets find out\n",
    "number = 2\n",
    "if number % 2 == 0:\n",
    "    print(\"number\", number, \"is even\")\n",
    "else: \n",
    "    print(\"number\", number, \"is odd\")"
   ]
  },
  {
   "cell_type": "code",
   "execution_count": 9,
   "metadata": {},
   "outputs": [
    {
     "name": "stdout",
     "output_type": "stream",
     "text": [
      "number 100 is even\n"
     ]
    }
   ],
   "source": [
    "number = 100\n",
    "if number % 2 == 0:\n",
    "    print(\"number\", number, \"is even\")\n",
    "else: \n",
    "    print(\"number\", number, \"is odd\")"
   ]
  },
  {
   "cell_type": "code",
   "execution_count": 10,
   "metadata": {},
   "outputs": [
    {
     "name": "stdout",
     "output_type": "stream",
     "text": [
      "number 4677 is odd\n"
     ]
    }
   ],
   "source": [
    "number = 4677\n",
    "if number % 2 == 0:\n",
    "    print(\"number\", number, \"is even\")\n",
    "else: \n",
    "    print(\"number\", number, \"is odd\")"
   ]
  },
  {
   "cell_type": "code",
   "execution_count": 11,
   "metadata": {},
   "outputs": [
    {
     "name": "stdout",
     "output_type": "stream",
     "text": [
      "number 4356 is even\n"
     ]
    }
   ],
   "source": [
    "number = 4356\n",
    "if number % 2 == 0:\n",
    "    print(\"number\", number, \"is even\")\n",
    "else: \n",
    "    print(\"number\", number, \"is odd\")"
   ]
  },
  {
   "cell_type": "code",
   "execution_count": 12,
   "metadata": {},
   "outputs": [
    {
     "name": "stdout",
     "output_type": "stream",
     "text": [
      "number 34 is even\n"
     ]
    }
   ],
   "source": [
    "number = 34\n",
    "if number % 2 == 0:\n",
    "    print(\"number\", number, \"is even\")\n",
    "else: \n",
    "    print(\"number\", number, \"is odd\")"
   ]
  },
  {
   "cell_type": "code",
   "execution_count": 15,
   "metadata": {},
   "outputs": [
    {
     "name": "stdout",
     "output_type": "stream",
     "text": [
      "number 2405 is odd\n"
     ]
    }
   ],
   "source": [
    "number = 2405\n",
    "if number % 2 == 0:\n",
    "    print(\"number\", number, \"is even\")\n",
    "else: \n",
    "    print(\"number\", number, \"is odd\")"
   ]
  },
  {
   "cell_type": "code",
   "execution_count": 16,
   "metadata": {},
   "outputs": [
    {
     "name": "stdout",
     "output_type": "stream",
     "text": [
      "number 3456 is even\n"
     ]
    }
   ],
   "source": [
    "number = 3456\n",
    "if number % 2 == 0:\n",
    "    print(\"number\", number, \"is even\")\n",
    "else: \n",
    "    print(\"number\", number, \"is odd\")"
   ]
  },
  {
   "cell_type": "markdown",
   "metadata": {},
   "source": [
    "# Do you see a problem here? \n",
    "# What if someone asked you, I want to find if these 1000 numbers are even or odd. So far we only did 7 numbers, and already there is a lot of redundant code"
   ]
  },
  {
   "cell_type": "markdown",
   "metadata": {},
   "source": [
    "# Functions to the rescue   :)  !!!!!!!!!!!!"
   ]
  },
  {
   "cell_type": "code",
   "execution_count": 25,
   "metadata": {},
   "outputs": [],
   "source": [
    "# with this function below, all I need to do is reuse the function\n",
    "def evenOrOdd(number):\n",
    "    if number % 2 == 0:\n",
    "        print(\"number\", number, \"is even\")\n",
    "    else:\n",
    "        print(\"number\", number, \"is odd\")\n",
    "#         2, 100, 4677, 4356, 34, 2405, 3456"
   ]
  },
  {
   "cell_type": "code",
   "execution_count": 26,
   "metadata": {},
   "outputs": [
    {
     "name": "stdout",
     "output_type": "stream",
     "text": [
      "number 2 is even\n"
     ]
    }
   ],
   "source": [
    "evenOrOdd(2)"
   ]
  },
  {
   "cell_type": "code",
   "execution_count": 27,
   "metadata": {},
   "outputs": [
    {
     "name": "stdout",
     "output_type": "stream",
     "text": [
      "number 100 is even\n"
     ]
    }
   ],
   "source": [
    "evenOrOdd(100)"
   ]
  },
  {
   "cell_type": "code",
   "execution_count": 28,
   "metadata": {},
   "outputs": [
    {
     "name": "stdout",
     "output_type": "stream",
     "text": [
      "number 4677 is odd\n"
     ]
    }
   ],
   "source": [
    "evenOrOdd(4677)"
   ]
  },
  {
   "cell_type": "code",
   "execution_count": 29,
   "metadata": {},
   "outputs": [
    {
     "name": "stdout",
     "output_type": "stream",
     "text": [
      "number 4356 is even\n"
     ]
    }
   ],
   "source": [
    "evenOrOdd(4356)"
   ]
  },
  {
   "cell_type": "code",
   "execution_count": 30,
   "metadata": {},
   "outputs": [
    {
     "name": "stdout",
     "output_type": "stream",
     "text": [
      "number 34 is even\n"
     ]
    }
   ],
   "source": [
    "evenOrOdd(34)"
   ]
  },
  {
   "cell_type": "code",
   "execution_count": 31,
   "metadata": {},
   "outputs": [
    {
     "name": "stdout",
     "output_type": "stream",
     "text": [
      "number 2405 is odd\n"
     ]
    }
   ],
   "source": [
    "evenOrOdd(2405)"
   ]
  },
  {
   "cell_type": "code",
   "execution_count": 32,
   "metadata": {},
   "outputs": [
    {
     "name": "stdout",
     "output_type": "stream",
     "text": [
      "number 3456 is even\n"
     ]
    }
   ],
   "source": [
    "evenOrOdd(3456)"
   ]
  },
  {
   "cell_type": "markdown",
   "metadata": {},
   "source": [
    "# Notice, how much cleaner and neater it is. So much less stuff to write. \n",
    "# I only write the code once. Then I can reuse it"
   ]
  },
  {
   "cell_type": "code",
   "execution_count": null,
   "metadata": {},
   "outputs": [],
   "source": []
  }
 ],
 "metadata": {
  "kernelspec": {
   "display_name": "Python 3",
   "language": "python",
   "name": "python3"
  },
  "language_info": {
   "codemirror_mode": {
    "name": "ipython",
    "version": 3
   },
   "file_extension": ".py",
   "mimetype": "text/x-python",
   "name": "python",
   "nbconvert_exporter": "python",
   "pygments_lexer": "ipython3",
   "version": "3.5.2"
  }
 },
 "nbformat": 4,
 "nbformat_minor": 2
}
